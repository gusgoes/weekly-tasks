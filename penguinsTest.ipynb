{
 "cells": [
  {
   "cell_type": "markdown",
   "metadata": {},
   "source": [
    "# Final Project for Principles of Data Analytics - GMIT 2024/01\n",
    "#### Author: Gustavo Fernandes\n",
    "****"
   ]
  },
  {
   "cell_type": "markdown",
   "metadata": {},
   "source": [
    "### Task 01 - Create an overview of the data set and the variables it contains"
   ]
  },
  {
   "cell_type": "markdown",
   "metadata": {},
   "source": [
    "#### 1.1 Import and Test Data Base"
   ]
  },
  {
   "cell_type": "code",
   "execution_count": 1,
   "metadata": {},
   "outputs": [
    {
     "name": "stdout",
     "output_type": "stream",
     "text": [
      "    species     island  bill_length_mm  bill_depth_mm  flipper_length_mm  \\\n",
      "0    Adelie  Torgersen            39.1           18.7              181.0   \n",
      "1    Adelie  Torgersen            39.5           17.4              186.0   \n",
      "2    Adelie  Torgersen            40.3           18.0              195.0   \n",
      "3    Adelie  Torgersen             NaN            NaN                NaN   \n",
      "4    Adelie  Torgersen            36.7           19.3              193.0   \n",
      "..      ...        ...             ...            ...                ...   \n",
      "339  Gentoo     Biscoe             NaN            NaN                NaN   \n",
      "340  Gentoo     Biscoe            46.8           14.3              215.0   \n",
      "341  Gentoo     Biscoe            50.4           15.7              222.0   \n",
      "342  Gentoo     Biscoe            45.2           14.8              212.0   \n",
      "343  Gentoo     Biscoe            49.9           16.1              213.0   \n",
      "\n",
      "     body_mass_g     sex  \n",
      "0         3750.0    MALE  \n",
      "1         3800.0  FEMALE  \n",
      "2         3250.0  FEMALE  \n",
      "3            NaN     NaN  \n",
      "4         3450.0  FEMALE  \n",
      "..           ...     ...  \n",
      "339          NaN     NaN  \n",
      "340       4850.0  FEMALE  \n",
      "341       5750.0    MALE  \n",
      "342       5200.0  FEMALE  \n",
      "343       5400.0    MALE  \n",
      "\n",
      "[344 rows x 7 columns]\n"
     ]
    }
   ],
   "source": [
    "import pandas as pd\n",
    "import matplotlib.pyplot as plt\n",
    "import numpy as np\n",
    "\n",
    "# Load the penguins dataset\n",
    "penguins = pd.read_csv('palmerpenguins.data')\n",
    "\n",
    "# Display the first rows as header\n",
    "penguins.head()\n",
    "\n",
    "penguins.replace(r'^\\s*$', np.nan, regex=True)\n",
    "\n",
    "# Display the dataset\n",
    "print(penguins)"
   ]
  },
  {
   "cell_type": "code",
   "execution_count": 19,
   "metadata": {},
   "outputs": [
    {
     "name": "stdout",
     "output_type": "stream",
     "text": [
      "           Female  Male\n",
      "species                \n",
      "Adelie         73    73\n",
      "Chinstrap      34    34\n",
      "Gentoo         58    61\n",
      "           Biscoe  Dream  Torgersen\n",
      "species                            \n",
      "Adelie       44.0   56.0       52.0\n",
      "Chinstrap     NaN   68.0        NaN\n",
      "Gentoo      124.0    NaN        NaN\n",
      "bill_length_mm  32.1  33.1  33.5  34.0  34.1  34.4  34.5  34.6  35.0  35.1  \\\n",
      "species                                                                      \n",
      "Adelie          32.1  33.1  33.5  34.0  34.1  34.4  34.5  34.6  35.0  35.1   \n",
      "Chinstrap        NaN   NaN   NaN   NaN   NaN   NaN   NaN   NaN   NaN   NaN   \n",
      "Gentoo           NaN   NaN   NaN   NaN   NaN   NaN   NaN   NaN   NaN   NaN   \n",
      "\n",
      "bill_length_mm  ...  52.8  53.4  53.5  54.2  54.3  55.1  55.8  55.9  58.0  \\\n",
      "species         ...                                                         \n",
      "Adelie          ...   NaN   NaN   NaN   NaN   NaN   NaN   NaN   NaN   NaN   \n",
      "Chinstrap       ...  52.8   NaN  53.5  54.2   NaN   NaN  55.8   NaN  58.0   \n",
      "Gentoo          ...   NaN  53.4   NaN   NaN  54.3  55.1   NaN  55.9   NaN   \n",
      "\n",
      "bill_length_mm  59.6  \n",
      "species               \n",
      "Adelie           NaN  \n",
      "Chinstrap        NaN  \n",
      "Gentoo          59.6  \n",
      "\n",
      "[3 rows x 164 columns]\n"
     ]
    }
   ],
   "source": [
    "# Display the dataset information\n",
    "gender_counts = penguins.groupby(['species', 'sex'])['sex'].count().unstack()\n",
    "gender_counts.columns = ['Female', 'Male']\n",
    "print(gender_counts)\n",
    "\n",
    "island_counts = penguins.groupby(['species', 'island'])['island'].count().unstack()\n",
    "island_counts.columns = ['Biscoe', 'Dream', 'Torgersen']\n",
    "print(island_counts)\n",
    "\n",
    "mean_bill_length = penguins.groupby(['species', 'bill_length_mm'])['bill_length_mm'].mean().unstack()\n",
    "#mean_bill_length.columns = ['species', 'bill_length_mm']\n",
    "print(mean_bill_length)\n",
    "\n"
   ]
  },
  {
   "cell_type": "markdown",
   "metadata": {},
   "source": [
    "***\n",
    "### Resource\n",
    "\n",
    "https://vlegalwaymayo.atu.ie/\n",
    "\n",
    "https://ianmcloughlin.github.io/2324_principles_of_data_analytics/\n",
    "\n",
    "[Co-pilot]\n",
    "\n",
    "https://stackoverflow.com/questions/13445241/replacing-blank-values-white-space-with-nan-in-pandas"
   ]
  },
  {
   "cell_type": "markdown",
   "metadata": {},
   "source": [
    "***\n",
    "# End\n",
    "***"
   ]
  }
 ],
 "metadata": {
  "kernelspec": {
   "display_name": "Python 3",
   "language": "python",
   "name": "python3"
  },
  "language_info": {
   "codemirror_mode": {
    "name": "ipython",
    "version": 3
   },
   "file_extension": ".py",
   "mimetype": "text/x-python",
   "name": "python",
   "nbconvert_exporter": "python",
   "pygments_lexer": "ipython3",
   "version": "3.12.3"
  }
 },
 "nbformat": 4,
 "nbformat_minor": 2
}
