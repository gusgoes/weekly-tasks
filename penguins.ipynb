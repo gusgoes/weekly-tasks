{
 "cells": [
  {
   "cell_type": "markdown",
   "metadata": {},
   "source": [
    "# Final Project for Principles of Data Analytics - GMIT 2024/01\n",
    "#### Author: Gustavo Fernandes\n",
    "****"
   ]
  },
  {
   "cell_type": "markdown",
   "metadata": {},
   "source": [
    "### Task 01 - Create an overview of the data set and the variables it contains"
   ]
  },
  {
   "cell_type": "markdown",
   "metadata": {},
   "source": [
    "#### 1.1 Import and Test Data Base"
   ]
  },
  {
   "cell_type": "code",
   "execution_count": 2,
   "metadata": {},
   "outputs": [
    {
     "name": "stdout",
     "output_type": "stream",
     "text": [
      "    species     island  bill_length_mm  bill_depth_mm  flipper_length_mm  \\\n",
      "0    Adelie  Torgersen            39.1           18.7              181.0   \n",
      "1    Adelie  Torgersen            39.5           17.4              186.0   \n",
      "2    Adelie  Torgersen            40.3           18.0              195.0   \n",
      "3    Adelie  Torgersen             NaN            NaN                NaN   \n",
      "4    Adelie  Torgersen            36.7           19.3              193.0   \n",
      "..      ...        ...             ...            ...                ...   \n",
      "339  Gentoo     Biscoe             NaN            NaN                NaN   \n",
      "340  Gentoo     Biscoe            46.8           14.3              215.0   \n",
      "341  Gentoo     Biscoe            50.4           15.7              222.0   \n",
      "342  Gentoo     Biscoe            45.2           14.8              212.0   \n",
      "343  Gentoo     Biscoe            49.9           16.1              213.0   \n",
      "\n",
      "     body_mass_g     sex  \n",
      "0         3750.0    MALE  \n",
      "1         3800.0  FEMALE  \n",
      "2         3250.0  FEMALE  \n",
      "3            NaN     NaN  \n",
      "4         3450.0  FEMALE  \n",
      "..           ...     ...  \n",
      "339          NaN     NaN  \n",
      "340       4850.0  FEMALE  \n",
      "341       5750.0    MALE  \n",
      "342       5200.0  FEMALE  \n",
      "343       5400.0    MALE  \n",
      "\n",
      "[344 rows x 7 columns]\n"
     ]
    }
   ],
   "source": [
    "import pandas as pd\n",
    "import matplotlib.pyplot as plt\n",
    "\n",
    "# Load the penguins dataset\n",
    "penguins = pd.read_csv('palmerpenguins.data')\n",
    "\n",
    "# Display the first rows as header\n",
    "penguins.head()\n",
    "\n",
    "# Display the dataset\n",
    "print(penguins)"
   ]
  },
  {
   "cell_type": "code",
   "execution_count": 14,
   "metadata": {},
   "outputs": [
    {
     "name": "stdout",
     "output_type": "stream",
     "text": [
      "     species     island  bill_length_mm  bill_depth_mm  flipper_length_mm  \\\n",
      "0        NaN  Torgersen            39.1           18.7              181.0   \n",
      "1        NaN  Torgersen            39.5           17.4              186.0   \n",
      "2        NaN  Torgersen            40.3           18.0              195.0   \n",
      "3        NaN  Torgersen             NaN            NaN                NaN   \n",
      "4        NaN  Torgersen            36.7           19.3              193.0   \n",
      "..       ...        ...             ...            ...                ...   \n",
      "339      NaN     Biscoe             NaN            NaN                NaN   \n",
      "340      NaN     Biscoe            46.8           14.3              215.0   \n",
      "341      NaN     Biscoe            50.4           15.7              222.0   \n",
      "342      NaN     Biscoe            45.2           14.8              212.0   \n",
      "343      NaN     Biscoe            49.9           16.1              213.0   \n",
      "\n",
      "     body_mass_g     sex  \n",
      "0         3750.0    MALE  \n",
      "1         3800.0  FEMALE  \n",
      "2         3250.0  FEMALE  \n",
      "3            NaN     NaN  \n",
      "4         3450.0  FEMALE  \n",
      "..           ...     ...  \n",
      "339          NaN     NaN  \n",
      "340       4850.0  FEMALE  \n",
      "341       5750.0    MALE  \n",
      "342       5200.0  FEMALE  \n",
      "343       5400.0    MALE  \n",
      "\n",
      "[344 rows x 7 columns]\n",
      "Empty DataFrame\n",
      "Columns: [island, bill_length_mm, bill_depth_mm, flipper_length_mm, body_mass_g, sex]\n",
      "Index: []\n",
      "Empty DataFrame\n",
      "Columns: [island, bill_length_mm, bill_depth_mm, flipper_length_mm, body_mass_g, sex]\n",
      "Index: []\n",
      "Empty DataFrame\n",
      "Columns: [island, bill_length_mm, bill_depth_mm, flipper_length_mm, body_mass_g, sex]\n",
      "Index: []\n"
     ]
    }
   ],
   "source": [
    "penguins.columns\n",
    "penguins.shape\n",
    "penguins.iloc[1]\n",
    "print(penguins)\n",
    "penguins.loc[penguins['species'] == 'adelie']\n",
    "penguins['species'].value_counts()\n",
    "sum_penguins = penguins.groupby('species').sum()\n",
    "mean_penguins = penguins.groupby('species').mean()\n",
    "median_penguins = penguins.groupby('species').median()\n",
    "print(sum_penguins)\n",
    "print(mean_penguins)\n",
    "print(median_penguins)\n"
   ]
  },
  {
   "cell_type": "markdown",
   "metadata": {},
   "source": [
    "***\n",
    "### Resource\n",
    "\n",
    "https://vlegalwaymayo.atu.ie/\n",
    "\n",
    "https://ianmcloughlin.github.io/2324_principles_of_data_analytics/\n",
    "\n",
    "[Co-pilot]\n"
   ]
  },
  {
   "cell_type": "markdown",
   "metadata": {},
   "source": [
    "***\n",
    "# End\n",
    "***"
   ]
  }
 ],
 "metadata": {
  "kernelspec": {
   "display_name": "Python 3",
   "language": "python",
   "name": "python3"
  },
  "language_info": {
   "codemirror_mode": {
    "name": "ipython",
    "version": 3
   },
   "file_extension": ".py",
   "mimetype": "text/x-python",
   "name": "python",
   "nbconvert_exporter": "python",
   "pygments_lexer": "ipython3",
   "version": "3.12.3"
  }
 },
 "nbformat": 4,
 "nbformat_minor": 2
}
