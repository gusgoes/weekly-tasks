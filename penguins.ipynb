{
 "cells": [
  {
   "cell_type": "markdown",
   "metadata": {},
   "source": [
    "# Final Project for Principles of Data Analytics - GMIT 2024/01\n",
    "\n",
    "#### Author: Gustavo Fernandes\n",
    "\n",
    "# Palmer Penguins\n",
    "\n",
    "***\n",
    "\n",
    "This notebook contains my analusis of the famous palmer panguins dataset.\n",
    "\n",
    "![Palmer](https://upload.wikimedia.org/wikipedia/commons/thumb/e/e0/Antarctica_6400px_from_Blue_Marble.jpg/240px-Antarctica_6400px_from_Blue_Marble.jpg)\n",
    "\n",
    "The Data set is avaiable on [GitHub](https://allisonhorst.github.io/palmerpenguins/).\n",
    "\n",
    "\n",
    "\n"
   ]
  },
  {
   "cell_type": "markdown",
   "metadata": {},
   "source": [
    "### Imports\n",
    "\n",
    "We use pandas for the DataFame data structure.\n",
    "\n",
    "It allows us to invetsigate CSV files, amoungst other features."
   ]
  },
  {
   "cell_type": "code",
   "execution_count": null,
   "metadata": {},
   "outputs": [],
   "source": [
    "# Data frames.\n",
    "import pandas as pd\n",
    "import numpy as np\n",
    "import matplotlib.pyplot as plt\n",
    "print(pd.__file__)\n",
    "print(pd.__version__)"
   ]
  },
  {
   "cell_type": "markdown",
   "metadata": {},
   "source": [
    "### Load Data\n",
    "\n",
    "Load the palmer penguins dara set from a URL"
   ]
  },
  {
   "cell_type": "code",
   "execution_count": null,
   "metadata": {},
   "outputs": [],
   "source": [
    "#Load the penguins data set.\n",
    "df = pd.read_csv(\"https://raw.githubusercontent.com/mwaskom/seaborn-data/master/penguins.csv\")"
   ]
  },
  {
   "cell_type": "markdown",
   "metadata": {},
   "source": [
    "The data is now loaded and we can inspect it."
   ]
  },
  {
   "cell_type": "code",
   "execution_count": null,
   "metadata": {},
   "outputs": [],
   "source": [
    "df"
   ]
  },
  {
   "cell_type": "markdown",
   "metadata": {},
   "source": [
    "### Task 01 - Create an overview of the data set and the variables it contains\n",
    "\n",
    "### Inspect Data"
   ]
  },
  {
   "cell_type": "code",
   "execution_count": null,
   "metadata": {},
   "outputs": [],
   "source": [
    "#Look at forst row.\n",
    "df.iloc[0]"
   ]
  },
  {
   "cell_type": "code",
   "execution_count": null,
   "metadata": {},
   "outputs": [],
   "source": [
    "#Sex of penguins\n",
    "\n",
    "df['sex']"
   ]
  },
  {
   "cell_type": "code",
   "execution_count": null,
   "metadata": {},
   "outputs": [],
   "source": [
    "#count of Sex of penguins\n",
    "\n",
    "df['sex'].value_counts()"
   ]
  },
  {
   "cell_type": "code",
   "execution_count": null,
   "metadata": {},
   "outputs": [],
   "source": [
    "#Describe data set\n",
    "df.describe()"
   ]
  },
  {
   "cell_type": "code",
   "execution_count": null,
   "metadata": {},
   "outputs": [],
   "source": [
    "island_counts = df.groupby(['species', 'island'])['island'].count().unstack()\n",
    "island_counts.columns = ['Biscoe', 'Dream', 'Torgersen']\n",
    "print(island_counts)"
   ]
  },
  {
   "cell_type": "code",
   "execution_count": null,
   "metadata": {},
   "outputs": [],
   "source": [
    "gender_counts = df.groupby(['species', 'sex'])['sex'].count().unstack()\n",
    "gender_counts.columns = ['Female', 'Male']\n",
    "print(gender_counts)"
   ]
  },
  {
   "cell_type": "code",
   "execution_count": null,
   "metadata": {},
   "outputs": [],
   "source": [
    "penguins_mean = df.groupby('species')[['bill_length_mm', 'bill_depth_mm','flipper_length_mm', 'body_mass_g']].mean().reset_index()\n",
    "penguins_mean = penguins_mean.merge(gender_counts, on='species')\n",
    "penguins_mean = penguins_mean.merge(island_counts, on='species')\n",
    "penguins_mean.columns = ['Species', 'Bill Length Mean (mm)', 'Mean Bill Depth (mm)','Flipper Length (mm)','Mean Body MAss (g)', 'Female (total)', 'Male (total)', 'Biscoe (total)', 'Dream (total)', 'Torgersen (total)']\n",
    "penguins_mean"
   ]
  },
  {
   "cell_type": "code",
   "execution_count": null,
   "metadata": {},
   "outputs": [],
   "source": [
    "print(penguins_mean.to_string(), file=open('penguins.summary.txt', 'w'))\n",
    "penguins_mean.plot(x='Species', y=['Bill Length Mean (mm)', 'Mean Bill Depth (mm)', 'Flipper Length (mm)'], kind='bar')\n",
    "plt.savefig('penguins_mean.png')\n",
    "\n"
   ]
  },
  {
   "cell_type": "code",
   "execution_count": null,
   "metadata": {},
   "outputs": [],
   "source": [
    "df.groupby('species')['body_mass_g'].plot(kind='hist', legend=True)\n",
    "plt.xlabel('Body Mass (g)')\n",
    "plt.ylabel('Frequency')\n",
    "plt.title('Distribution of Body Mass by Species')\n",
    "plt.savefig('penguins_mass.png')\n",
    "plt.show()\n"
   ]
  },
  {
   "cell_type": "code",
   "execution_count": null,
   "metadata": {},
   "outputs": [],
   "source": [
    "species_order = ['Adelie', 'Gentoo', 'Chinstrap']\n",
    "df['species'] = pd.Categorical(df['species'], categories=species_order, ordered=True)\n",
    "df = df.sort_values('species')\n",
    "\n",
    "# Plotting the histogram\n",
    "df.groupby('species')['bill_length_mm'].plot(kind='hist', legend=True)\n",
    "plt.xlabel('Bill Length (mm)')\n",
    "plt.ylabel('Frequency')\n",
    "plt.title('Distribution of Bill Length by Species')\n",
    "plt.savefig('penguins_billlenght.png')\n",
    "plt.show()"
   ]
  },
  {
   "cell_type": "code",
   "execution_count": null,
   "metadata": {},
   "outputs": [],
   "source": [
    "species_order = ['Adelie', 'Gentoo', 'Chinstrap']\n",
    "df['species'] = pd.Categorical(df['species'], categories=species_order, ordered=True)\n",
    "df = df.sort_values('species')\n",
    "\n",
    "# Plotting the histogram\n",
    "df.groupby('species')['bill_depth_mm'].plot(kind='hist', legend=True)\n",
    "plt.xlabel('Bill Depth (mm)')\n",
    "plt.ylabel('Frequency')\n",
    "plt.title('Distribution of Bill Depth by Species')\n",
    "plt.savefig('penguins_billdepht.png')\n",
    "plt.show()"
   ]
  },
  {
   "cell_type": "code",
   "execution_count": null,
   "metadata": {},
   "outputs": [],
   "source": [
    "#flipper_length_mm\n",
    "species_order = ['Adelie', 'Gentoo', 'Chinstrap']\n",
    "df['species'] = pd.Categorical(df['species'], categories=species_order, ordered=True)\n",
    "df = df.sort_values('species')\n",
    "\n",
    "# Plotting the histogram\n",
    "df.groupby('species')['flipper_length_mm'].plot(kind='hist', legend=True)\n",
    "plt.xlabel('Flipper Lenght (mm)')\n",
    "plt.ylabel('Frequency')\n",
    "plt.title('Distribution of Flipper Lenght by Species')\n",
    "plt.savefig('penguins_flipperlenght.png')\n",
    "plt.show()"
   ]
  },
  {
   "cell_type": "code",
   "execution_count": null,
   "metadata": {},
   "outputs": [],
   "source": [
    "df.groupby('island')['body_mass_g'].plot(kind='hist', legend=True)\n",
    "plt.xlabel('Body Mass (g)')\n",
    "plt.ylabel('Frequency')\n",
    "plt.title('Distribution of Body Mass by Island')\n",
    "plt.savefig('island_mass.png')\n",
    "plt.show()"
   ]
  },
  {
   "cell_type": "code",
   "execution_count": null,
   "metadata": {},
   "outputs": [],
   "source": [
    "island_order = ['Biscoe', 'Dream', 'Torgersen']\n",
    "df['islaand'] = pd.Categorical(df['island'], categories=species_order, ordered=True)\n",
    "df = df.sort_values('species')\n",
    "\n",
    "# Plotting the histogram\n",
    "df.groupby('island')['bill_length_mm'].plot(kind='hist', legend=True)\n",
    "plt.xlabel('Bill Length (mm)')\n",
    "plt.ylabel('Frequency')\n",
    "plt.title('Distribution of Bill Length by Island')\n",
    "plt.savefig('island_billlenght.png')\n",
    "plt.show()"
   ]
  },
  {
   "cell_type": "markdown",
   "metadata": {},
   "source": [
    "***\n",
    "### Codes that are interesting but i will not use on that project"
   ]
  },
  {
   "cell_type": "code",
   "execution_count": null,
   "metadata": {},
   "outputs": [],
   "source": [
    "'''penguins_group = df.groupby('species')\n",
    "\n",
    "for species, species_data in penguins_group:\n",
    "    fig, axs = plt.subplots(2, 2, figsize=(10, 10))\n",
    "    fig.suptitle(f'Specie {species} Histograms')\n",
    "    for i, column in enumerate(df.columns[2:6]):\n",
    "        ax = axs[i // 2, i % 2]\n",
    "        ax.hist(species_data[column])\n",
    "        ax.set_title(column)\n",
    "        ax.set_xlabel(column)\n",
    "        ax.set_ylabel('Frequency')\n",
    "    plt.savefig(f'sp_{species}_histograms.png')\n",
    "    plt.close()'''"
   ]
  },
  {
   "cell_type": "code",
   "execution_count": null,
   "metadata": {},
   "outputs": [],
   "source": [
    "'''penguins_group = df.groupby('island')\n",
    "\n",
    "for island, island_data in penguins_group:\n",
    "    fig, axs = plt.subplots(2, 2, figsize=(10, 10))\n",
    "    fig.suptitle(f'Island {island} Histograms')\n",
    "    for i, column in enumerate(df.columns[2:6]):\n",
    "        ax = axs[i // 2, i % 2]\n",
    "        ax.hist(island_data[column])\n",
    "        ax.set_title(column)\n",
    "        ax.set_xlabel(column)\n",
    "        ax.set_ylabel('Frequency')\n",
    "    plt.savefig(f'is_{island}_histograms.png')\n",
    "    plt.close()'''"
   ]
  },
  {
   "cell_type": "markdown",
   "metadata": {},
   "source": [
    "***\n",
    "### Resource\n",
    "\n",
    "https://vlegalwaymayo.atu.ie/\n",
    "\n",
    "https://ianmcloughlin.github.io/2324_principles_of_data_analytics/\n",
    "\n",
    "[Co-pilot]\n",
    "\n",
    "https://stackoverflow.com/questions/13445241/replacing-blank-values-white-space-with-nan-in-pandas"
   ]
  },
  {
   "cell_type": "markdown",
   "metadata": {},
   "source": [
    "### Tables\n",
    "\n",
    "***\n",
    "\n",
    "|Species   |Bill Lenght (mm)| Body Mass (g)|\n",
    "|----------|---------------:|-------------:|\n",
    "|Adelie    |             8.8|          3701|\n",
    "|Chinstrap |            48.8|          3733|\n",
    "|Gentoo    |            47.5|          5076|\n"
   ]
  },
  {
   "cell_type": "markdown",
   "metadata": {},
   "source": [
    "```\n",
    "pyhton\n",
    "print(\"Python is a great language!\")\n",
    "a=a+1\n",
    "print(a)\n",
    "```"
   ]
  },
  {
   "cell_type": "markdown",
   "metadata": {},
   "source": [
    "***\n",
    "\n",
    "# End"
   ]
  }
 ],
 "metadata": {
  "kernelspec": {
   "display_name": "Python 3",
   "language": "python",
   "name": "python3"
  },
  "language_info": {
   "codemirror_mode": {
    "name": "ipython",
    "version": 3
   },
   "file_extension": ".py",
   "mimetype": "text/x-python",
   "name": "python",
   "nbconvert_exporter": "python",
   "pygments_lexer": "ipython3",
   "version": "3.12.3"
  }
 },
 "nbformat": 4,
 "nbformat_minor": 2
}
